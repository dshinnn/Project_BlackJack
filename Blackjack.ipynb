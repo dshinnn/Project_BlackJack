{
 "cells": [
  {
   "cell_type": "markdown",
   "metadata": {},
   "source": [
    "## Python Blackjack\n",
    "For this project you will make a Blackjack game using Python. Click <a href=\"http://www.hitorstand.net/strategy.php\">here</a> to familiarize yourself with the the rules of the game. You won't be implementing every rule \"down to the letter\" with the game, but we will doing a simpler version of the game. This assignment will be given to further test your knowledge on object-oriented programming concepts.\n",
    "\n",
    "### Rules:\n",
    "\n",
    "`1. ` The game will have two players: the Dealer and the Player. The game will start off with a deck of 52 cards. The 52 cards will consist of 4 different suits: Clubs, Diamonds, Hearts and Spades. For each suit, there will be cards numbered 1 through 13. <br>\n",
    "**Note: No wildcards will be used in the program**\n",
    "\n",
    "`2. ` When the game begins, the dealer will shuffle the deck of cards, making them randomized. After the dealer shuffles, it will deal the player 2 cards and will deal itself 2 cards from. The Player should be able to see both of their own cards, but should only be able to see one of the Dealer's cards.\n",
    " \n",
    "`3. ` The objective of the game is for the Player to count their cards after they're dealt. If they're not satisfied with the number, they have the ability to 'Hit'. A hit allows the dealer to deal the Player one additional card. The Player can hit as many times as they'd like as long as they don't 'Bust'. A bust is when the Player is dealt cards that total more than 21.\n",
    "\n",
    "`4. ` If the dealer deals the Player cards equal to 21 on the **first** deal, the Player wins. This is referred to as Blackjack. Blackjack is **NOT** the same as getting cards that equal up to 21 after the first deal. Blackjack can only be attained on the first deal.\n",
    "\n",
    "`5. ` The Player will never see the Dealer's hand until the Player chooses to 'stand'. A Stand is when the player tells the dealer to not deal it anymore cards. Once the player chooses to Stand, the Player and the Dealer will compare their hands. Whoever has the higher number wins. Keep in mind that the Dealer can also bust. "
   ]
  },
  {
   "cell_type": "code",
   "execution_count": 138,
   "metadata": {
    "scrolled": true
   },
   "outputs": [],
   "source": [
    "# Contains all the requirements for a game\n",
    "class Game():\n",
    "    def __init__(self):\n",
    "        self.deck = Deck().deck\n",
    "        self.dealer = Dealer()\n",
    "        self.player = Player()\n",
    "    \n",
    "        \n",
    "class Person():\n",
    "    def __init__(self, person_type):\n",
    "        self.cards = []\n",
    "        self.person_type = person_type.lower()\n",
    "        self.hand_total = 0\n",
    "    \n",
    "    # Calculates the sum of player/dealer's hand\n",
    "    def calculate_hand(self):\n",
    "        self.hand_total = sum([value for value, suit in self.cards])\n",
    "    \n",
    "    # Prints player and dealers cards\n",
    "    def show_cards(self, end_of_game=False):\n",
    "        # Formats the print string with the first card\n",
    "        print_cards = f'{self.person_type.title()} has {self.cards[0][0]} of {self.cards[0][1]}'\n",
    "        for i in range(1, len(self.cards)):\n",
    "            print_cards += ' -'\n",
    "            # prints all the player cards or the deaelers card when the game is over\n",
    "            if self.person_type == 'player' or (self.person_type == 'dealer' and end_of_game):\n",
    "                # Prints Ace and Royals instead of numeric values\n",
    "                if self.cards[i][0] == 1:\n",
    "                    print_cards += f'Ace of {self.cards[i][1]} '\n",
    "                elif self.cards[i][0] == 11:\n",
    "                    print_cards += f'Jack of {self.cards[i][1]} '\n",
    "                elif self.cards[i][0] == 12:\n",
    "                    print_cards += f'Queen of {self.cards[i][1]} '\n",
    "                elif self.cards[i][0] == 13:\n",
    "                    print_cards += f'King of {self.cards[i][1]} '  \n",
    "                else:\n",
    "                    print_cards += f'{self.cards[i][0]} of {self.cards[i][1]} '\n",
    "            else:\n",
    "                print_cards += 'HIDDEN '\n",
    "        \n",
    "        print(print_cards)\n",
    "            \n",
    "class Dealer(Person):\n",
    "    def __init__(self):\n",
    "        super().__init__('dealer')\n",
    "            \n",
    "class Player(Person):\n",
    "    def __init__(self, balance=100):\n",
    "        super().__init__('player')\n",
    "        self.balance = balance\n",
    "    \n",
    "    # Prints the current player balance\n",
    "    def print_balance(self):\n",
    "        print('Your current balance is', self.balance)\n",
    "    \n",
    "    # Prompts user to enter a bet\n",
    "    def bet(self):\n",
    "        self.print_balance()\n",
    "        return int(input('Please enter your bet: '))\n",
    "    \n",
    "    # Calculates new player balance depending on winning status\n",
    "    def calculate_balance(self, status, bet_amount):\n",
    "        if status.lower() == 'win':\n",
    "            self.balance += bet_amount\n",
    "        elif status.lower() == 'lose':\n",
    "            self.balance -= bet_amount\n",
    "        \n",
    "        self.print_balance()\n",
    "            \n",
    "\n",
    "class Deck():\n",
    "    from random import shuffle\n",
    "    \n",
    "    # Generates a deck when a new instance is created\n",
    "    def __init__(self):\n",
    "        self.deck = self.generate_deck()\n",
    "        self.shuffle_deck()\n",
    "    \n",
    "    # Generates a new deck of 52 cards\n",
    "    def generate_deck(self):\n",
    "        suits = ['Diamonds', 'Hearts', 'Spades', 'Clubs']\n",
    "        values = [i for i in range(1, 14)]\n",
    "        return [(v, s) for v in values for s in suits]\n",
    "    \n",
    "    # Shuffles the instance deck\n",
    "    def shuffle_deck(self):\n",
    "        shuffle(self.deck)"
   ]
  },
  {
   "cell_type": "code",
   "execution_count": 139,
   "metadata": {
    "scrolled": true
   },
   "outputs": [],
   "source": [
    "game = Game()"
   ]
  },
  {
   "cell_type": "code",
   "execution_count": 144,
   "metadata": {},
   "outputs": [
    {
     "name": "stdout",
     "output_type": "stream",
     "text": [
      "Dealer has 7 of Spades - 4 of Hearts  - Ace of Diamonds  - 4 of Spades  - 10 of Clubs \n"
     ]
    }
   ],
   "source": [
    "game.deal_cards('dealer')\n",
    "game.dealer.show_cards(True)"
   ]
  },
  {
   "cell_type": "code",
   "execution_count": 145,
   "metadata": {},
   "outputs": [
    {
     "data": {
      "text/plain": [
       "26"
      ]
     },
     "execution_count": 145,
     "metadata": {},
     "output_type": "execute_result"
    }
   ],
   "source": [
    "game.dealer.calculate_hand()\n",
    "game.dealer.hand_total"
   ]
  },
  {
   "cell_type": "markdown",
   "metadata": {},
   "source": [
    "TODO: Need to calculate win conditions (also need to check if the hand has an ace)"
   ]
  }
 ],
 "metadata": {
  "kernelspec": {
   "display_name": "Python 3",
   "language": "python",
   "name": "python3"
  },
  "language_info": {
   "codemirror_mode": {
    "name": "ipython",
    "version": 3
   },
   "file_extension": ".py",
   "mimetype": "text/x-python",
   "name": "python",
   "nbconvert_exporter": "python",
   "pygments_lexer": "ipython3",
   "version": "3.8.8"
  },
  "toc": {
   "base_numbering": 1,
   "nav_menu": {},
   "number_sections": true,
   "sideBar": true,
   "skip_h1_title": false,
   "title_cell": "Table of Contents",
   "title_sidebar": "Contents",
   "toc_cell": false,
   "toc_position": {},
   "toc_section_display": true,
   "toc_window_display": false
  }
 },
 "nbformat": 4,
 "nbformat_minor": 2
}
